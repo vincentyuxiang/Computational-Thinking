{
  "nbformat": 4,
  "nbformat_minor": 0,
  "metadata": {
    "colab": {
      "name": "地17周",
      "provenance": [],
      "authorship_tag": "ABX9TyOQHQH6lapW4dL5S1/Lw3pP",
      "include_colab_link": true
    },
    "kernelspec": {
      "name": "python3",
      "display_name": "Python 3"
    }
  },
  "cells": [
    {
      "cell_type": "markdown",
      "metadata": {
        "id": "view-in-github",
        "colab_type": "text"
      },
      "source": [
        "<a href=\"https://colab.research.google.com/github/vincentyuxiang/Computational-Thinking/blob/master/%E5%9C%B017%E5%91%A8.ipynb\" target=\"_parent\"><img src=\"https://colab.research.google.com/assets/colab-badge.svg\" alt=\"Open In Colab\"/></a>"
      ]
    },
    {
      "cell_type": "code",
      "metadata": {
        "colab": {
          "base_uri": "https://localhost:8080/"
        },
        "id": "oC4g1jcWnEfd",
        "outputId": "7e138f49-b215-43db-acf0-63624de5b6b0"
      },
      "source": [
        "num_a=int(input(\"請輸入第一個數字\"))\r\n",
        "num_b=int(input(\"請輸入第二個數字\"))\r\n",
        "if num_a<0:\r\n",
        "  print(\"第一個是負數\")\r\n",
        "  if num_b<0:\r\n",
        "    print(\"第二個也是負數\")\r\n",
        "print(\"比較完成\")"
      ],
      "execution_count": 4,
      "outputs": [
        {
          "output_type": "stream",
          "text": [
            "請輸入第一個數字-5\n",
            "請輸入第二個數字2\n",
            "第一個是負數\n",
            "比較完成\n"
          ],
          "name": "stdout"
        }
      ]
    },
    {
      "cell_type": "code",
      "metadata": {
        "colab": {
          "base_uri": "https://localhost:8080/"
        },
        "id": "ELLAJrBD2ncX",
        "outputId": "cc0307a3-e757-42c6-c87a-89cabb0a2505"
      },
      "source": [
        "score=int(input(\"請輸入分數\"))\r\n",
        "if score>=60:\r\n",
        "  print(\"在騙阿婊子\")\r\n",
        "if score<60:\r\n",
        "  print(\"哈哈笑死\")"
      ],
      "execution_count": 31,
      "outputs": [
        {
          "output_type": "stream",
          "text": [
            "請輸入分數68\n",
            "在騙阿婊子\n"
          ],
          "name": "stdout"
        }
      ]
    }
  ]
}