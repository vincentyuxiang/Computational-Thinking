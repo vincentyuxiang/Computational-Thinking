{
  "nbformat": 4,
  "nbformat_minor": 0,
  "metadata": {
    "colab": {
      "name": "week10-1",
      "provenance": [],
      "authorship_tag": "ABX9TyPkshVThmwNHLm+E9AVzI8Y",
      "include_colab_link": true
    },
    "kernelspec": {
      "name": "python3",
      "display_name": "Python 3"
    }
  },
  "cells": [
    {
      "cell_type": "markdown",
      "metadata": {
        "id": "view-in-github",
        "colab_type": "text"
      },
      "source": [
        "<a href=\"https://colab.research.google.com/github/vincentyuxiang/Computational-Thinking/blob/master/week10_1.ipynb\" target=\"_parent\"><img src=\"https://colab.research.google.com/assets/colab-badge.svg\" alt=\"Open In Colab\"/></a>"
      ]
    },
    {
      "cell_type": "code",
      "metadata": {
        "colab": {
          "base_uri": "https://localhost:8080/"
        },
        "id": "PxBc1LkDb6rT",
        "outputId": "e4473338-22e6-4b9c-e069-0af0e74a89f8"
      },
      "source": [
        "movie_title=\"Avengers:Endgame\"\n",
        "release_year=\"2019\"\n",
        "movie_time_min=\"181\"\n",
        "director=\"Anthony Russo and Joseph Russo\"\n",
        "movie_rating=\"9.0\"\n",
        "print(\"電影英文名稱\",movie_title)\n",
        "print(\"電影年份\",release_year)\n",
        "print(\"電影片長\",movie_time_min)\n",
        "print(\"導演名子\",director)\n",
        "print(\"電影評分\",movie_rating)"
      ],
      "execution_count": 3,
      "outputs": [
        {
          "output_type": "stream",
          "text": [
            "電影英文名稱 Avengers:Endgame\n",
            "電影年份 2019\n",
            "電影片長 181\n",
            "導演名子 Anthony Russo and Joseph Russo\n",
            "電影評分 9.0\n"
          ],
          "name": "stdout"
        }
      ]
    }
  ]
}