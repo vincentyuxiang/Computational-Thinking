{
  "nbformat": 4,
  "nbformat_minor": 0,
  "metadata": {
    "colab": {
      "name": "第八週",
      "provenance": [],
      "authorship_tag": "ABX9TyM1UGWGJXbn0VO/l4l4v2O5",
      "include_colab_link": true
    },
    "kernelspec": {
      "name": "python3",
      "display_name": "Python 3"
    }
  },
  "cells": [
    {
      "cell_type": "markdown",
      "metadata": {
        "id": "view-in-github",
        "colab_type": "text"
      },
      "source": [
        "<a href=\"https://colab.research.google.com/github/vincentyuxiang/Computational-Thinking/blob/master/%E7%AC%AC%E5%85%AB%E9%80%B1.ipynb\" target=\"_parent\"><img src=\"https://colab.research.google.com/assets/colab-badge.svg\" alt=\"Open In Colab\"/></a>"
      ]
    },
    {
      "cell_type": "code",
      "metadata": {
        "id": "oEuPkg-vlqRo",
        "outputId": "87e89b1e-f9b5-4e10-cbaf-21160980bbba",
        "colab": {
          "base_uri": "https://localhost:8080/"
        }
      },
      "source": [
        "fir=int(input(\"請輸入第一次期中考成績？\"))"
      ],
      "execution_count": 3,
      "outputs": [
        {
          "output_type": "stream",
          "text": [
            "請輸入第一次期中考成績？75\n"
          ],
          "name": "stdout"
        }
      ]
    },
    {
      "cell_type": "code",
      "metadata": {
        "id": "Gi9AaWPJmZfy",
        "outputId": "ef505a5a-9748-4790-8f97-ac72e0cac407",
        "colab": {
          "base_uri": "https://localhost:8080/"
        }
      },
      "source": [
        "sec=int(input(\"請輸入第二次期中考成績？\"))"
      ],
      "execution_count": 4,
      "outputs": [
        {
          "output_type": "stream",
          "text": [
            "請輸入第二次期中考成績？80\n"
          ],
          "name": "stdout"
        }
      ]
    },
    {
      "cell_type": "code",
      "metadata": {
        "id": "uWK3PckHmovR",
        "outputId": "666a7beb-6f66-4361-d992-f64c379be247",
        "colab": {
          "base_uri": "https://localhost:8080/"
        }
      },
      "source": [
        "final=int(input(\"請輸入期末考成績？\"))"
      ],
      "execution_count": 5,
      "outputs": [
        {
          "output_type": "stream",
          "text": [
            "請輸入期末考成績？65\n"
          ],
          "name": "stdout"
        }
      ]
    },
    {
      "cell_type": "code",
      "metadata": {
        "id": "b48hcoEKnDvs",
        "outputId": "35cc921e-96ad-4ebc-e83a-821b2bf3b8cc",
        "colab": {
          "base_uri": "https://localhost:8080/"
        }
      },
      "source": [
        "total=(fir)+(sec)+(final)\n",
        "total"
      ],
      "execution_count": 10,
      "outputs": [
        {
          "output_type": "execute_result",
          "data": {
            "text/plain": [
              "220"
            ]
          },
          "metadata": {
            "tags": []
          },
          "execution_count": 10
        }
      ]
    },
    {
      "cell_type": "code",
      "metadata": {
        "id": "gld4jm7Znsq_",
        "outputId": "a3475c66-6ed8-494a-87d7-87d33b402779",
        "colab": {
          "base_uri": "https://localhost:8080/"
        }
      },
      "source": [
        "print(total)"
      ],
      "execution_count": 22,
      "outputs": [
        {
          "output_type": "stream",
          "text": [
            "220\n"
          ],
          "name": "stdout"
        }
      ]
    },
    {
      "cell_type": "code",
      "metadata": {
        "id": "HHNsOmoDowpg"
      },
      "source": [
        "N1=total/3"
      ],
      "execution_count": 25,
      "outputs": []
    },
    {
      "cell_type": "code",
      "metadata": {
        "id": "AnYV8FEVqQd1",
        "outputId": "202610cb-f1ea-4c44-bd52-f8847ae7ba1d",
        "colab": {
          "base_uri": "https://localhost:8080/"
        }
      },
      "source": [
        "print(\"平均\",N1)"
      ],
      "execution_count": 26,
      "outputs": [
        {
          "output_type": "stream",
          "text": [
            "平均 73.33333333333333\n"
          ],
          "name": "stdout"
        }
      ]
    }
  ]
}