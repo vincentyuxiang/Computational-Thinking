{
  "nbformat": 4,
  "nbformat_minor": 0,
  "metadata": {
    "colab": {
      "name": "第八週",
      "provenance": [],
      "authorship_tag": "ABX9TyOe9ej5NfkEDdbnWgF/uUp6",
      "include_colab_link": true
    },
    "kernelspec": {
      "name": "python3",
      "display_name": "Python 3"
    }
  },
  "cells": [
    {
      "cell_type": "markdown",
      "metadata": {
        "id": "view-in-github",
        "colab_type": "text"
      },
      "source": [
        "<a href=\"https://colab.research.google.com/github/vincentyuxiang/Computational-Thinking/blob/master/%E7%AC%AC%E5%85%AB%E9%80%B1.ipynb\" target=\"_parent\"><img src=\"https://colab.research.google.com/assets/colab-badge.svg\" alt=\"Open In Colab\"/></a>"
      ]
    },
    {
      "cell_type": "code",
      "metadata": {
        "id": "3HyhrZzVf-Z7",
        "outputId": "00e2d24c-ea7c-4b4d-a8c4-40e930dd6ad2",
        "colab": {
          "base_uri": "https://localhost:8080/"
        }
      },
      "source": [
        "cloth=int(input(\"請輸入上衣數量？\"))"
      ],
      "execution_count": 2,
      "outputs": [
        {
          "output_type": "stream",
          "text": [
            "請輸入上衣數量？100\n"
          ],
          "name": "stdout"
        }
      ]
    },
    {
      "cell_type": "code",
      "metadata": {
        "id": "sceetIsrhg8_",
        "outputId": "e9070851-471d-4eb3-ffdc-2f34123ed8cf",
        "colab": {
          "base_uri": "https://localhost:8080/"
        }
      },
      "source": [
        "trousers=int(input(\"請輸入褲子數量？\"))"
      ],
      "execution_count": 3,
      "outputs": [
        {
          "output_type": "stream",
          "text": [
            "請輸入褲子數量？200\n"
          ],
          "name": "stdout"
        }
      ]
    },
    {
      "cell_type": "code",
      "metadata": {
        "id": "Js6pYx9Jh8WJ",
        "outputId": "9ef834ae-1848-4c0b-d793-dbb2a473cb91",
        "colab": {
          "base_uri": "https://localhost:8080/"
        }
      },
      "source": [
        "vest=int(input(\"請輸入背心數量\"))"
      ],
      "execution_count": 4,
      "outputs": [
        {
          "output_type": "stream",
          "text": [
            "請輸入背心數量150\n"
          ],
          "name": "stdout"
        }
      ]
    },
    {
      "cell_type": "code",
      "metadata": {
        "id": "StmWzBTgiLiz"
      },
      "source": [
        "total=cloth*300+trousers*350+vest*400"
      ],
      "execution_count": 5,
      "outputs": []
    },
    {
      "cell_type": "code",
      "metadata": {
        "id": "dMrm2I-1igMa",
        "outputId": "ade0357a-bb1a-4046-b8ed-2fb491011f82",
        "colab": {
          "base_uri": "https://localhost:8080/"
        }
      },
      "source": [
        "print(\"訂購服裝的總金額為\",total)"
      ],
      "execution_count": 6,
      "outputs": [
        {
          "output_type": "stream",
          "text": [
            "訂購服裝的總金額為 160000\n"
          ],
          "name": "stdout"
        }
      ]
    }
  ]
}