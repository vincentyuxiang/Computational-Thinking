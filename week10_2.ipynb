{
  "nbformat": 4,
  "nbformat_minor": 0,
  "metadata": {
    "colab": {
      "name": "week10-2",
      "provenance": [],
      "authorship_tag": "ABX9TyMPgeWj1yKZhDUbag4Cr7lg",
      "include_colab_link": true
    },
    "kernelspec": {
      "name": "python3",
      "display_name": "Python 3"
    }
  },
  "cells": [
    {
      "cell_type": "markdown",
      "metadata": {
        "id": "view-in-github",
        "colab_type": "text"
      },
      "source": [
        "<a href=\"https://colab.research.google.com/github/vincentyuxiang/Computational-Thinking/blob/master/week10_2.ipynb\" target=\"_parent\"><img src=\"https://colab.research.google.com/assets/colab-badge.svg\" alt=\"Open In Colab\"/></a>"
      ]
    },
    {
      "cell_type": "code",
      "metadata": {
        "colab": {
          "base_uri": "https://localhost:8080/"
        },
        "id": "Gj7tcuzVhAWg",
        "outputId": "cfcf4992-733d-47bd-838c-b18618455e20"
      },
      "source": [
        "time=123\n",
        "hour=time//60\n",
        "minute=time%60\n",
        "print(time,\"是\",hour,\"小時\",minute,\"分鐘\")\n",
        "hour1=int(time/60)\n",
        "minute1=((time/60)-hour1)*60"
      ],
      "execution_count": 1,
      "outputs": [
        {
          "output_type": "stream",
          "text": [
            "123 是 2 小時 3 分鐘\n"
          ],
          "name": "stdout"
        }
      ]
    }
  ]
}