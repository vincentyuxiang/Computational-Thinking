{
  "nbformat": 4,
  "nbformat_minor": 0,
  "metadata": {
    "colab": {
      "name": "第十一週",
      "provenance": [],
      "authorship_tag": "ABX9TyM53g883O2F7/LQvJ6+pnkB",
      "include_colab_link": true
    },
    "kernelspec": {
      "name": "python3",
      "display_name": "Python 3"
    }
  },
  "cells": [
    {
      "cell_type": "markdown",
      "metadata": {
        "id": "view-in-github",
        "colab_type": "text"
      },
      "source": [
        "<a href=\"https://colab.research.google.com/github/vincentyuxiang/Computational-Thinking/blob/master/%E7%AC%AC%E5%8D%81%E4%B8%80%E9%80%B1.ipynb\" target=\"_parent\"><img src=\"https://colab.research.google.com/assets/colab-badge.svg\" alt=\"Open In Colab\"/></a>"
      ]
    },
    {
      "cell_type": "code",
      "metadata": {
        "colab": {
          "base_uri": "https://localhost:8080/"
        },
        "id": "7q93DRqpafdN",
        "outputId": "0ccb51ae-2e09-444a-eb12-ceb2ceed0362"
      },
      "source": [
        "# 商數餘數\n",
        "## input\n",
        "seat=input(\"enter a seat number?\")\n",
        "seat=int(seat)\n",
        "## process\n",
        "group=(seat-1)//5+1\n",
        "## output\n",
        "print(\"group is\",group)"
      ],
      "execution_count": 2,
      "outputs": [
        {
          "output_type": "stream",
          "text": [
            "enter a seat number?19\n",
            "group is 4\n"
          ],
          "name": "stdout"
        }
      ]
    },
    {
      "cell_type": "code",
      "metadata": {
        "colab": {
          "base_uri": "https://localhost:8080/"
        },
        "id": "W4E_MSgEoIEH",
        "outputId": "de19d8b1-8484-4819-d651-2f759c089790"
      },
      "source": [
        "# 四捨五入 無條件進位\n",
        "##input\n",
        "seat=int(input('enter a seat number'))\n",
        "##process\n",
        "import math\n",
        "group=math.ceil(seat/5)\n",
        "##output\n",
        "print('Group is',group)"
      ],
      "execution_count": 5,
      "outputs": [
        {
          "output_type": "stream",
          "text": [
            "enter a seat number12\n",
            "Group is 3\n"
          ],
          "name": "stdout"
        }
      ]
    }
  ]
}