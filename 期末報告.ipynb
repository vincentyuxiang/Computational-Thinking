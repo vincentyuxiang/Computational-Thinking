{
  "nbformat": 4,
  "nbformat_minor": 0,
  "metadata": {
    "colab": {
      "name": "期末報告.ipynb",
      "provenance": [],
      "collapsed_sections": [],
      "include_colab_link": true
    },
    "kernelspec": {
      "name": "python3",
      "display_name": "Python 3"
    }
  },
  "cells": [
    {
      "cell_type": "markdown",
      "metadata": {
        "id": "view-in-github",
        "colab_type": "text"
      },
      "source": [
        "<a href=\"https://colab.research.google.com/github/vincentyuxiang/Computational-Thinking/blob/master/%E6%9C%9F%E6%9C%AB%E5%A0%B1%E5%91%8A.ipynb\" target=\"_parent\"><img src=\"https://colab.research.google.com/assets/colab-badge.svg\" alt=\"Open In Colab\"/></a>"
      ]
    },
    {
      "cell_type": "code",
      "metadata": {
        "colab": {
          "base_uri": "https://localhost:8080/"
        },
        "id": "4pXfcb4518SA",
        "outputId": "9d527812-d37a-4a35-fb59-7c985cffe526"
      },
      "source": [
        "n=1\r\n",
        "while n<=2:\r\n",
        " print(\"從前~\")\r\n",
        " n=n+1\r\n",
        "print(\"在深山裡有一棟小木屋面住著七個小矮人與白雪公主\")"
      ],
      "execution_count": null,
      "outputs": [
        {
          "output_type": "stream",
          "text": [
            "從前~\n",
            "從前~\n",
            "在深山裡有一棟小木屋面住著七個小矮人與白雪公主\n"
          ],
          "name": "stdout"
        }
      ]
    },
    {
      "cell_type": "code",
      "metadata": {
        "id": "bM5KO6TKtThL",
        "colab": {
          "base_uri": "https://localhost:8080/",
          "height": 597
        },
        "outputId": "cdc7df2a-e127-45c5-c085-7adfee651f41"
      },
      "source": [
        "print(\"晚上好~我是害羞蟲，我很害羞，不敢跟大家聊天，所以我用聊天器人幫我回答\")\r\n",
        "ans=input(\"吃飽了嗎...?(吃過了/還沒)\")\r\n",
        "if ans==\"吃過了\":\r\n",
        "  a=input(\"那你要不要猜我今年幾歲?(好/不好)\")\r\n",
        "  if a==\"好\":\r\n",
        "    cprice = 18\r\n",
        "    gprice=int(input(\"那你猜我今年幾歲(0~100)\"))\r\n",
        "    while (gprice != cprice):\r\n",
        "      print(\"你猜錯了\")\r\n",
        "      if gprice > cprice :\r\n",
        "        print(\"沒有那麼老啦!再年輕一點\")\r\n",
        "      else:\r\n",
        "        print(\"你以為我是誰~我沒那麼年輕啦，再大一點\")\r\n",
        "      gprice=int(input(\"再猜猜我今年幾歲(0~100)\"))\r\n",
        "    print(\"你真厲害\",\"正確年齡就是\",cprice)\r\n",
        "  else:\r\n",
        "    print(\"那好吧!\")\r\n",
        "else:\r\n",
        "  print(\"那趕快去吃喔!\")\r\n"
      ],
      "execution_count": null,
      "outputs": [
        {
          "output_type": "stream",
          "text": [
            "晚上好~\n",
            "哈囉我叫瞌睡蟲,你好阿\n"
          ],
          "name": "stdout"
        },
        {
          "output_type": "error",
          "ename": "KeyboardInterrupt",
          "evalue": "ignored",
          "traceback": [
            "\u001b[0;31m---------------------------------------------------------------------------\u001b[0m",
            "\u001b[0;31mKeyboardInterrupt\u001b[0m                         Traceback (most recent call last)",
            "\u001b[0;32m/usr/local/lib/python3.6/dist-packages/ipykernel/kernelbase.py\u001b[0m in \u001b[0;36m_input_request\u001b[0;34m(self, prompt, ident, parent, password)\u001b[0m\n\u001b[1;32m    728\u001b[0m             \u001b[0;32mtry\u001b[0m\u001b[0;34m:\u001b[0m\u001b[0;34m\u001b[0m\u001b[0;34m\u001b[0m\u001b[0m\n\u001b[0;32m--> 729\u001b[0;31m                 \u001b[0mident\u001b[0m\u001b[0;34m,\u001b[0m \u001b[0mreply\u001b[0m \u001b[0;34m=\u001b[0m \u001b[0mself\u001b[0m\u001b[0;34m.\u001b[0m\u001b[0msession\u001b[0m\u001b[0;34m.\u001b[0m\u001b[0mrecv\u001b[0m\u001b[0;34m(\u001b[0m\u001b[0mself\u001b[0m\u001b[0;34m.\u001b[0m\u001b[0mstdin_socket\u001b[0m\u001b[0;34m,\u001b[0m \u001b[0;36m0\u001b[0m\u001b[0;34m)\u001b[0m\u001b[0;34m\u001b[0m\u001b[0;34m\u001b[0m\u001b[0m\n\u001b[0m\u001b[1;32m    730\u001b[0m             \u001b[0;32mexcept\u001b[0m \u001b[0mException\u001b[0m\u001b[0;34m:\u001b[0m\u001b[0;34m\u001b[0m\u001b[0;34m\u001b[0m\u001b[0m\n",
            "\u001b[0;32m/usr/local/lib/python3.6/dist-packages/jupyter_client/session.py\u001b[0m in \u001b[0;36mrecv\u001b[0;34m(self, socket, mode, content, copy)\u001b[0m\n\u001b[1;32m    802\u001b[0m         \u001b[0;32mtry\u001b[0m\u001b[0;34m:\u001b[0m\u001b[0;34m\u001b[0m\u001b[0;34m\u001b[0m\u001b[0m\n\u001b[0;32m--> 803\u001b[0;31m             \u001b[0mmsg_list\u001b[0m \u001b[0;34m=\u001b[0m \u001b[0msocket\u001b[0m\u001b[0;34m.\u001b[0m\u001b[0mrecv_multipart\u001b[0m\u001b[0;34m(\u001b[0m\u001b[0mmode\u001b[0m\u001b[0;34m,\u001b[0m \u001b[0mcopy\u001b[0m\u001b[0;34m=\u001b[0m\u001b[0mcopy\u001b[0m\u001b[0;34m)\u001b[0m\u001b[0;34m\u001b[0m\u001b[0;34m\u001b[0m\u001b[0m\n\u001b[0m\u001b[1;32m    804\u001b[0m         \u001b[0;32mexcept\u001b[0m \u001b[0mzmq\u001b[0m\u001b[0;34m.\u001b[0m\u001b[0mZMQError\u001b[0m \u001b[0;32mas\u001b[0m \u001b[0me\u001b[0m\u001b[0;34m:\u001b[0m\u001b[0;34m\u001b[0m\u001b[0;34m\u001b[0m\u001b[0m\n",
            "\u001b[0;32m/usr/local/lib/python3.6/dist-packages/zmq/sugar/socket.py\u001b[0m in \u001b[0;36mrecv_multipart\u001b[0;34m(self, flags, copy, track)\u001b[0m\n\u001b[1;32m    565\u001b[0m         \"\"\"\n\u001b[0;32m--> 566\u001b[0;31m         \u001b[0mparts\u001b[0m \u001b[0;34m=\u001b[0m \u001b[0;34m[\u001b[0m\u001b[0mself\u001b[0m\u001b[0;34m.\u001b[0m\u001b[0mrecv\u001b[0m\u001b[0;34m(\u001b[0m\u001b[0mflags\u001b[0m\u001b[0;34m,\u001b[0m \u001b[0mcopy\u001b[0m\u001b[0;34m=\u001b[0m\u001b[0mcopy\u001b[0m\u001b[0;34m,\u001b[0m \u001b[0mtrack\u001b[0m\u001b[0;34m=\u001b[0m\u001b[0mtrack\u001b[0m\u001b[0;34m)\u001b[0m\u001b[0;34m]\u001b[0m\u001b[0;34m\u001b[0m\u001b[0;34m\u001b[0m\u001b[0m\n\u001b[0m\u001b[1;32m    567\u001b[0m         \u001b[0;31m# have first part already, only loop while more to receive\u001b[0m\u001b[0;34m\u001b[0m\u001b[0;34m\u001b[0m\u001b[0;34m\u001b[0m\u001b[0m\n",
            "\u001b[0;32mzmq/backend/cython/socket.pyx\u001b[0m in \u001b[0;36mzmq.backend.cython.socket.Socket.recv\u001b[0;34m()\u001b[0m\n",
            "\u001b[0;32mzmq/backend/cython/socket.pyx\u001b[0m in \u001b[0;36mzmq.backend.cython.socket.Socket.recv\u001b[0;34m()\u001b[0m\n",
            "\u001b[0;32mzmq/backend/cython/socket.pyx\u001b[0m in \u001b[0;36mzmq.backend.cython.socket._recv_copy\u001b[0;34m()\u001b[0m\n",
            "\u001b[0;32m/usr/local/lib/python3.6/dist-packages/zmq/backend/cython/checkrc.pxd\u001b[0m in \u001b[0;36mzmq.backend.cython.checkrc._check_rc\u001b[0;34m()\u001b[0m\n",
            "\u001b[0;31mKeyboardInterrupt\u001b[0m: ",
            "\nDuring handling of the above exception, another exception occurred:\n",
            "\u001b[0;31mKeyboardInterrupt\u001b[0m                         Traceback (most recent call last)",
            "\u001b[0;32m<ipython-input-12-eb128a003cd6>\u001b[0m in \u001b[0;36m<module>\u001b[0;34m()\u001b[0m\n\u001b[1;32m      1\u001b[0m \u001b[0mprint\u001b[0m\u001b[0;34m(\u001b[0m\u001b[0;34m\"晚上好~\"\u001b[0m\u001b[0;34m)\u001b[0m\u001b[0;34m\u001b[0m\u001b[0;34m\u001b[0m\u001b[0m\n\u001b[1;32m      2\u001b[0m \u001b[0mprint\u001b[0m\u001b[0;34m(\u001b[0m\u001b[0;34m\"哈囉我叫瞌睡蟲,你好阿\"\u001b[0m\u001b[0;34m)\u001b[0m\u001b[0;34m\u001b[0m\u001b[0;34m\u001b[0m\u001b[0m\n\u001b[0;32m----> 3\u001b[0;31m \u001b[0mans\u001b[0m\u001b[0;34m=\u001b[0m\u001b[0minput\u001b[0m\u001b[0;34m(\u001b[0m\u001b[0;34m\"你想知道為什麼我叫瞌睡蟲?(好啊/不要)\"\u001b[0m\u001b[0;34m)\u001b[0m\u001b[0;34m\u001b[0m\u001b[0;34m\u001b[0m\u001b[0m\n\u001b[0m\u001b[1;32m      4\u001b[0m \u001b[0;32mif\u001b[0m \u001b[0mans\u001b[0m\u001b[0;34m==\u001b[0m\u001b[0;34m\"好啊\"\u001b[0m\u001b[0;34m:\u001b[0m\u001b[0;34m\u001b[0m\u001b[0;34m\u001b[0m\u001b[0m\n\u001b[1;32m      5\u001b[0m  \u001b[0mprint\u001b[0m\u001b[0;34m(\u001b[0m\u001b[0;34m\"因為我很愛睡阿\"\u001b[0m\u001b[0;34m)\u001b[0m\u001b[0;34m\u001b[0m\u001b[0;34m\u001b[0m\u001b[0m\n",
            "\u001b[0;32m/usr/local/lib/python3.6/dist-packages/ipykernel/kernelbase.py\u001b[0m in \u001b[0;36mraw_input\u001b[0;34m(self, prompt)\u001b[0m\n\u001b[1;32m    702\u001b[0m             \u001b[0mself\u001b[0m\u001b[0;34m.\u001b[0m\u001b[0m_parent_ident\u001b[0m\u001b[0;34m,\u001b[0m\u001b[0;34m\u001b[0m\u001b[0;34m\u001b[0m\u001b[0m\n\u001b[1;32m    703\u001b[0m             \u001b[0mself\u001b[0m\u001b[0;34m.\u001b[0m\u001b[0m_parent_header\u001b[0m\u001b[0;34m,\u001b[0m\u001b[0;34m\u001b[0m\u001b[0;34m\u001b[0m\u001b[0m\n\u001b[0;32m--> 704\u001b[0;31m             \u001b[0mpassword\u001b[0m\u001b[0;34m=\u001b[0m\u001b[0;32mFalse\u001b[0m\u001b[0;34m,\u001b[0m\u001b[0;34m\u001b[0m\u001b[0;34m\u001b[0m\u001b[0m\n\u001b[0m\u001b[1;32m    705\u001b[0m         )\n\u001b[1;32m    706\u001b[0m \u001b[0;34m\u001b[0m\u001b[0m\n",
            "\u001b[0;32m/usr/local/lib/python3.6/dist-packages/ipykernel/kernelbase.py\u001b[0m in \u001b[0;36m_input_request\u001b[0;34m(self, prompt, ident, parent, password)\u001b[0m\n\u001b[1;32m    732\u001b[0m             \u001b[0;32mexcept\u001b[0m \u001b[0mKeyboardInterrupt\u001b[0m\u001b[0;34m:\u001b[0m\u001b[0;34m\u001b[0m\u001b[0;34m\u001b[0m\u001b[0m\n\u001b[1;32m    733\u001b[0m                 \u001b[0;31m# re-raise KeyboardInterrupt, to truncate traceback\u001b[0m\u001b[0;34m\u001b[0m\u001b[0;34m\u001b[0m\u001b[0;34m\u001b[0m\u001b[0m\n\u001b[0;32m--> 734\u001b[0;31m                 \u001b[0;32mraise\u001b[0m \u001b[0mKeyboardInterrupt\u001b[0m\u001b[0;34m\u001b[0m\u001b[0;34m\u001b[0m\u001b[0m\n\u001b[0m\u001b[1;32m    735\u001b[0m             \u001b[0;32melse\u001b[0m\u001b[0;34m:\u001b[0m\u001b[0;34m\u001b[0m\u001b[0;34m\u001b[0m\u001b[0m\n\u001b[1;32m    736\u001b[0m                 \u001b[0;32mbreak\u001b[0m\u001b[0;34m\u001b[0m\u001b[0;34m\u001b[0m\u001b[0m\n",
            "\u001b[0;31mKeyboardInterrupt\u001b[0m: "
          ]
        }
      ]
    },
    {
      "cell_type": "code",
      "metadata": {
        "id": "EQcVt40CDTgh",
        "colab": {
          "base_uri": "https://localhost:8080/"
        },
        "outputId": "bd149a48-6800-47d4-c4b4-8ea0c8610250"
      },
      "source": [
        "print('哈囉我叫做萬事通~')\r\n",
        "print(\"早上好~\")\r\n",
        "ans=input(\"吃過早餐了嗎?(吃過啦/還沒)\")\r\n",
        "if ans==\"吃過啦\":\r\n",
        "  a=input(\"那你要不要猜我今天早上吃麵包還是麵?\")\r\n",
        "  if a==\"麵包\":\r\n",
        "    cprice = 40\r\n",
        "    gprice=int(input(\"那你猜我吃的麵包多少錢(0~50)\"))\r\n",
        "    while (gprice != cprice):\r\n",
        "      print(\"你猜錯了\")\r\n",
        "      if gprice > cprice :\r\n",
        "        print(\"沒有那麼貴啦!再便宜一點\")\r\n",
        "      else:\r\n",
        "        print(\"你以為這裡是哪裡~麵包沒那麼便宜啦\")\r\n",
        "      gprice=int(input(\"再猜我吃的麵包多少錢(0~50)\"))\r\n",
        "    print(\"好棒喔\",\"正確價錢就是\",cprice)\r\n",
        "  else:\r\n",
        "    print(\"好笨,這樣也猜錯\")\r\n",
        "else:\r\n",
        "  print(\"快去啊!\")"
      ],
      "execution_count": null,
      "outputs": [
        {
          "output_type": "stream",
          "text": [
            "哈囉我叫做萬事通~\n",
            "早上好~\n",
            "吃過早餐了嗎?(吃過啦/還沒)吃過啦\n",
            "那你要不要猜我今天晚上吃麵包還是麵?麵包\n",
            "那你猜我吃的飯多少錢(0~50)40\n",
            "好棒喔 正確價錢就是 40\n"
          ],
          "name": "stdout"
        }
      ]
    },
    {
      "cell_type": "code",
      "metadata": {
        "colab": {
          "base_uri": "https://localhost:8080/"
        },
        "id": "S0hXuUgNFOm-",
        "outputId": "eb02ab80-6485-44e3-c4ab-23fe295c11d0"
      },
      "source": [
        "print(\"嗨嗨!我是等一下...哈啾\")\r\n",
        "print(\"ok好了正式跟大家介紹我叫噴嚏精\")\r\n",
        "ans=input('那個你有衛生紙嗎(yes或no)?哈啾')\r\n",
        "if ans=='yes':\r\n",
        "   print('那可以借我一張嗎')\r\n",
        "else:\r\n",
        "  print('好吧')\r\n",
        "  print('那你的衣服可以借我一下嗎?')\r\n",
        "  print('沒啦開玩笑的啦')\r\n",
        "  print(\"那我需要去買包衛生紙了\")\r\n",
        "n=1\r\n",
        "while n<=5:\r\n",
        " print(\"哈啾\")\r\n",
        " n=n+1\r\n",
        "print(\"這是我今天的第49個噴嚏\")\r\n",
        "print(\"再一個就可以達成人生最高紀錄了\")\r\n",
        "print(\"哈啾\")\r\n",
        "print(\"喔喔喔喔達到了 厲害吧\")"
      ],
      "execution_count": null,
      "outputs": [
        {
          "output_type": "stream",
          "text": [
            "嗨嗨!我是等一下...哈啾\n",
            "ok好了正式跟大家介紹我叫噴嚏精\n",
            "那個你有衛生紙嗎(yes或no)?哈啾no\n",
            "好吧\n",
            "那你的衣服可以借我一下嗎?\n",
            "沒啦開玩笑的啦\n",
            "那我需要去買包衛生紙了\n",
            "哈啾\n",
            "哈啾\n",
            "哈啾\n",
            "哈啾\n",
            "哈啾\n",
            "這是我今天的第49個噴嚏\n",
            "再一個就可以達成人生最高紀錄了\n",
            "哈啾\n",
            "喔喔喔喔達到了 厲害吧\n"
          ],
          "name": "stdout"
        }
      ]
    },
    {
      "cell_type": "code",
      "metadata": {
        "colab": {
          "base_uri": "https://localhost:8080/"
        },
        "id": "Gv6_qJoyFdlr",
        "outputId": "4c4f392d-c648-40f9-9bdd-fcd54995ddb2"
      },
      "source": [
        "print(\"大家好，我是迷糊鬼~\")\r\n",
        "ans=input(\"猜猜我今天幾點起床?(7點/10點)\")\r\n",
        "if ans==\"10點\":\r\n",
        "  a=input(\"那你要不要猜我昨天幾點睡覺?\")\r\n",
        "  if a=='8點':\r\n",
        "    print('你猜對了，我昨天吃完晚餐就睡了')\r\n",
        "  else:\r\n",
        "    print('猜錯了')\r\n",
        "else:\r\n",
        "  print(\"我沒這麼早起床啦!\")"
      ],
      "execution_count": null,
      "outputs": [
        {
          "output_type": "stream",
          "text": [
            "大家好，我是迷糊鬼~\n",
            "猜猜我今天幾點起床?(7點/10點)10點\n",
            "那你要不要猜我昨天幾點睡覺?8點\n",
            "你猜對了，我昨天吃完晚餐就睡了\n"
          ],
          "name": "stdout"
        }
      ]
    },
    {
      "cell_type": "code",
      "metadata": {
        "colab": {
          "base_uri": "https://localhost:8080/"
        },
        "id": "S7-amPGyF6-t",
        "outputId": "6ebaa98d-8b52-4a24-f50f-99030b6d806b"
      },
      "source": [
        "print(\"你好~\")\r\n",
        "ans=input(\"你知道我是誰嗎?(知道/不知道)\")\r\n",
        "if ans==\"不知道\":\r\n",
        "  print(\"我叫「愛生氣」\")\r\n",
        "  a=input(\"你知道為什麼我愛生氣嗎?(知道/不知道)\")\r\n",
        "  if a==\"知道\":\r\n",
        "   print(\"你又知道了\")\r\n",
        "  if a==\"不知道\":\r\n",
        "   input(\"你還有什麼事情是知道的？\")\r\n",
        "   print(\"喔是喔\")\r\n",
        "if ans==\"知道\":\r\n",
        "  print(\"你又知道了\")"
      ],
      "execution_count": null,
      "outputs": [
        {
          "output_type": "stream",
          "text": [
            "你好~\n",
            "你知道我是誰嗎?(知道/不知道)不知道\n",
            "我叫「愛生氣」\n",
            "你知道為什麼我愛生氣嗎?(知道/不知道)不知道\n",
            "你還有什麼事情是知道的？不知道\n",
            "喔是喔\n"
          ],
          "name": "stdout"
        }
      ]
    },
    {
      "cell_type": "code",
      "metadata": {
        "colab": {
          "base_uri": "https://localhost:8080/"
        },
        "id": "E3lbPAy4Gf4h",
        "outputId": "2cfc47e9-ea9a-44bc-c584-1492f96b2527"
      },
      "source": [
        "print(\"晚上好~\")\r\n",
        "print(\"哈囉我叫瞌睡蟲,你好阿\")\r\n",
        "ans=input(\"你想知道為什麼我叫瞌睡蟲?(好啊/不要)\")\r\n",
        "if ans==\"好啊\":\r\n",
        " print(\"因為我很愛睡阿\")\r\n",
        "else:\r\n",
        "  print(\"好啊那沒關係我還是告訴你,因為我很愛睡所以我叫瞌睡蟲阿\")\r\n",
        "name=input(\"那你叫什麼名子呢?\")\r\n",
        "print(\"嗨\",name,\"請問今年幾年了?\")\r\n",
        "year=input(\"金年\")\r\n",
        "print(\"怎麼這麼久了,你看八,不要跟我一樣愛睡喔,不然會把時間睡掉\")"
      ],
      "execution_count": null,
      "outputs": [
        {
          "output_type": "stream",
          "text": [
            "晚上好~\n",
            "哈囉我叫瞌睡蟲,你好阿\n",
            "你想知道為什麼我叫瞌睡蟲?(好啊/不要)好啊\n",
            "因為我很愛睡阿\n",
            "那你叫什麼名子呢?愛生氣\n",
            "嗨 愛生氣 請問今年幾年了?\n",
            "幾年2021\n",
            "怎麼這麼久了,你看八,不要跟我一樣愛睡喔,不然會把時間睡掉\n"
          ],
          "name": "stdout"
        }
      ]
    },
    {
      "cell_type": "code",
      "metadata": {
        "colab": {
          "base_uri": "https://localhost:8080/"
        },
        "id": "s_qm5yRmHb-L",
        "outputId": "23f57a74-639b-4bbe-872e-e5ad68fc523d"
      },
      "source": [
        "n=1\r\n",
        "while n<=2:\r\n",
        "  print('哈囉!')\r\n",
        "  n=n+1\r\n",
        "print('大家好我是白雪公主')\r\n",
        "place=input('那你是從哪裡來?')\r\n",
        "print(\"喔\",place,\"就在我們隔壁山頭而已\")\r\n",
        "ans=input('那你猜猜我來自哪裡?(皇宮/小木屋)')\r\n",
        "if ans=='小木屋':\r\n",
        "   print(\"沒錯喔\")\r\n",
        "else:\r\n",
        "  print('不是喔是小木屋')\r\n",
        "print(\"跟我一起生活的小矮人每個人的名字都代表著各自的特點\")\r\n",
        "print(\"我們住的地方每天都很熱鬧\")\r\n"
      ],
      "execution_count": null,
      "outputs": [
        {
          "output_type": "stream",
          "text": [
            "哈囉!\n",
            "哈囉!\n",
            "大家好我是白雪公主\n",
            "那你是從哪裡來?五指山\n",
            "喔 五指山 就在我們隔壁山頭而已\n",
            "那你猜猜我來自哪裡?(皇宮/小木屋)小木屋\n",
            "沒錯喔\n",
            "跟我一起生活的小矮人每個人的名字都代表著各自的特點\n",
            "我們住的地方每天都很熱鬧\n"
          ],
          "name": "stdout"
        }
      ]
    },
    {
      "cell_type": "code",
      "metadata": {
        "colab": {
          "base_uri": "https://localhost:8080/"
        },
        "id": "LKtSgArBJE7J",
        "outputId": "449b9e81-903b-4ebb-be4e-21220caeb4e7"
      },
      "source": [
        "n=1\r\n",
        "while n<=2:\r\n",
        "  print(\"你好~\")\r\n",
        "  n=n+1\r\n",
        "print(\"哈囉我的名字是開心果~\")\r\n",
        "name=input(\"你叫甚麼名字呢?\")\r\n",
        "print(\"你好\", name,\"很高興認識你\")\r\n",
        "place=input(\"你家住在哪裡呢?\")\r\n",
        "print(\"哇~感覺\",place,\"是一個很美的地方呢!\")\r\n",
        "work=input(\"那你在山上都在做甚麼呢?\")\r\n",
        "print(\"那真的蠻辛苦的呢!\")\r\n",
        "eat=input(\"那你平常在山上都吃甚麼當早餐?\")\r\n",
        "print(\"跟我一樣耶!\",eat,\"真的非常適合當早餐。\")\r\n",
        "eat1=input(\"那午餐呢?\")\r\n",
        "print(\"感覺\",eat1,\"是個不錯的選擇，但我都是吃鍋燒麵。\")\r\n",
        "eat2=input(\"那晚餐呢?你都怎麼吃?\")\r\n",
        "print(\"\",eat2,\"聽起來幸福呢!我們通常都吃外食~\")"
      ],
      "execution_count": null,
      "outputs": [
        {
          "output_type": "stream",
          "text": [
            "你好~\n",
            "你好~\n",
            "哈囉我的名字是開心果~\n",
            "你叫甚麼名字呢?傑瑞\n",
            "你好 傑瑞 很高興認識你\n",
            "你家住在哪裡呢?山上的木屋\n",
            "哇~感覺 山上的木屋 是一個很美的地方呢!\n",
            "那你在山上都在做甚麼呢?砍柴和燒柴\n",
            "那真的蠻辛苦的呢!\n",
            "那你平常在山上都吃甚麼當早餐?蛋餅\n",
            "跟我一樣耶! 蛋餅 真的非常適合當早餐。\n",
            "那午餐呢?義大利麵\n",
            "感覺 義大利麵 是個不錯的選擇，但我都是吃鍋燒麵。\n",
            "那晚餐呢?你都怎麼吃?在家裡吃\n",
            " 在家裡吃 聽起來幸福呢!我們通常都吃外食~\n"
          ],
          "name": "stdout"
        }
      ]
    }
  ]
}