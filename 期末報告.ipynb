{
  "nbformat": 4,
  "nbformat_minor": 0,
  "metadata": {
    "colab": {
      "name": "期末報告",
      "provenance": [],
      "authorship_tag": "ABX9TyPAJNKu4ANy6TmtxcNVDSC6",
      "include_colab_link": true
    },
    "kernelspec": {
      "name": "python3",
      "display_name": "Python 3"
    }
  },
  "cells": [
    {
      "cell_type": "markdown",
      "metadata": {
        "id": "view-in-github",
        "colab_type": "text"
      },
      "source": [
        "<a href=\"https://colab.research.google.com/github/vincentyuxiang/Computational-Thinking/blob/master/%E6%9C%9F%E6%9C%AB%E5%A0%B1%E5%91%8A.ipynb\" target=\"_parent\"><img src=\"https://colab.research.google.com/assets/colab-badge.svg\" alt=\"Open In Colab\"/></a>"
      ]
    },
    {
      "cell_type": "code",
      "metadata": {
        "colab": {
          "base_uri": "https://localhost:8080/"
        },
        "id": "EviaTcpcsPmZ",
        "outputId": "9da40f8d-4ac6-4ef9-f229-ba77ddc5071d"
      },
      "source": [
        "print(\"你好~\")\r\n",
        "ans=input(\"你知道我是誰嗎?(知道/不知道)\")\r\n",
        "if ans==\"不知道\":\r\n",
        "  print(\"我叫「愛生氣」\")\r\n",
        "  a=input(\"你知道為什麼我愛生氣嗎?(知道/不知道)\")\r\n",
        "  if a==\"知道\":\r\n",
        "   print(\"你又知道了\")\r\n",
        "  if a==\"不知道\":\r\n",
        "   input(\"你還有什麼事情是知道的？\")\r\n",
        "   print(\"喔是喔\")\r\n",
        "if ans==\"知道\":\r\n",
        "  print(\"你又知道了\")\r\n",
        "  "
      ],
      "execution_count": 50,
      "outputs": [
        {
          "output_type": "stream",
          "text": [
            "你好~\n",
            "你知道我是誰嗎?(知道/不知道)不知道\n",
            "我叫「愛生氣」\n",
            "你知道為什麼我愛生氣嗎?(知道/不知道)不知道\n",
            "你還有什麼事情是知道的？不知道\n",
            "喔是喔\n"
          ],
          "name": "stdout"
        }
      ]
    }
  ]
}