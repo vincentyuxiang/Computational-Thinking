{
  "nbformat": 4,
  "nbformat_minor": 0,
  "metadata": {
    "colab": {
      "name": "12周",
      "provenance": [],
      "authorship_tag": "ABX9TyM4LPX5Cfxj3unQQUSZA3MN",
      "include_colab_link": true
    },
    "kernelspec": {
      "name": "python3",
      "display_name": "Python 3"
    }
  },
  "cells": [
    {
      "cell_type": "markdown",
      "metadata": {
        "id": "view-in-github",
        "colab_type": "text"
      },
      "source": [
        "<a href=\"https://colab.research.google.com/github/vincentyuxiang/Computational-Thinking/blob/master/12%E5%91%A8.ipynb\" target=\"_parent\"><img src=\"https://colab.research.google.com/assets/colab-badge.svg\" alt=\"Open In Colab\"/></a>"
      ]
    },
    {
      "cell_type": "code",
      "metadata": {
        "colab": {
          "base_uri": "https://localhost:8080/"
        },
        "id": "_P8EsfIjbe21",
        "outputId": "9f837936-cff9-4be6-b8b4-0d9f1d0ef0a5"
      },
      "source": [
        "#[0,1,2,3,4,5,6,7,8,9]\r\n",
        "a = range(9) \r\n",
        "print(a)\r\n",
        "range(0,9)\r\n",
        "print(a[0],a[1],a[2],a[3],a[4],a[5],a[6],a[7],a[8])\r\n",
        "\r\n",
        "#[0,2,4,6,8]\r\n",
        "b = range(0,10,2) \r\n",
        "print(b[0],b[1],b[2],b[3],b[4])\r\n",
        "\r\n",
        "# [5,7,9]\r\n",
        "c = range(5,10,2)\r\n",
        "print(c[0],c[1],c[2])\r\n",
        "\r\n",
        "# [0,-1 -2,-3,-4,-5,-6,-7,-8,-9]\r\n",
        "d = range(0,-10,-1)\r\n",
        "print(d[0],d[1],d[2],d[3],d[4],d[5],d[6],d[7],d[8],d[9])"
      ],
      "execution_count": 1,
      "outputs": [
        {
          "output_type": "stream",
          "text": [
            "range(0, 9)\n",
            "0 1 2 3 4 5 6 7 8\n",
            "0 2 4 6 8\n",
            "5 7 9\n",
            "0 -1 -2 -3 -4 -5 -6 -7 -8 -9\n"
          ],
          "name": "stdout"
        }
      ]
    },
    {
      "cell_type": "code",
      "metadata": {
        "colab": {
          "base_uri": "https://localhost:8080/"
        },
        "id": "Dasc3gyPblI-",
        "outputId": "a8a25938-d8e8-4765-fe9c-c42cbb11e0de"
      },
      "source": [
        "shoppling_list=['蘋果','香蕉','葡萄','鳳梨','西瓜']\r\n",
        "print(shoppling_list)\r\n",
        "print(shoppling_list[0])\r\n",
        "shoppling_list[1]='奇異果'\r\n",
        "print(shoppling_list)\r\n",
        "print(shoppling_list[1:3])"
      ],
      "execution_count": 2,
      "outputs": [
        {
          "output_type": "stream",
          "text": [
            "['蘋果', '香蕉', '葡萄', '鳳梨', '西瓜']\n",
            "蘋果\n",
            "['蘋果', '奇異果', '葡萄', '鳳梨', '西瓜']\n",
            "['奇異果', '葡萄']\n"
          ],
          "name": "stdout"
        }
      ]
    },
    {
      "cell_type": "code",
      "metadata": {
        "colab": {
          "base_uri": "https://localhost:8080/"
        },
        "id": "bno2fEGKbtcG",
        "outputId": "bc5d6eaf-7f56-43cd-f57d-3aa454e5b710"
      },
      "source": [
        "# NBA冠軍賽的六筆資訊\r\n",
        "season = \"1995-1996\"\r\n",
        "team = \"Chicago Bulls\"\r\n",
        "coach = \"Phil Jackson\"\r\n",
        "records = [72, 10]\r\n",
        "starting = [\"Ron Harper\", \"Michael Jordan\", \"Scottie Pippen\", \"Dennis Rodman\", \"Luc Longley\"]\r\n",
        "champion = True\r\n",
        "\r\n",
        "best_NBA = list((season, team, coach, records, starting,champion))\r\n",
        "print(best_NBA)\r\n",
        "\r\n",
        "print(best_NBA[4])\r\n",
        "print(best_NBA[-2])\r\n",
        "print(best_NBA[0:3])"
      ],
      "execution_count": 3,
      "outputs": [
        {
          "output_type": "stream",
          "text": [
            "['1995-1996', 'Chicago Bulls', 'Phil Jackson', [72, 10], ['Ron Harper', 'Michael Jordan', 'Scottie Pippen', 'Dennis Rodman', 'Luc Longley'], True]\n",
            "['Ron Harper', 'Michael Jordan', 'Scottie Pippen', 'Dennis Rodman', 'Luc Longley']\n",
            "['Ron Harper', 'Michael Jordan', 'Scottie Pippen', 'Dennis Rodman', 'Luc Longley']\n",
            "['1995-1996', 'Chicago Bulls', 'Phil Jackson']\n"
          ],
          "name": "stdout"
        }
      ]
    }
  ]
}